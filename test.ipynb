{
 "cells": [
  {
   "cell_type": "code",
   "execution_count": null,
   "id": "560e1ed6-45a5-48dc-a7f9-ddadd8870425",
   "metadata": {},
   "outputs": [],
   "source": [
    "from os import getenv\n",
    "from pathlib import Path\n",
    "\n",
    "input_folder = Path(getenv(\n",
    "    'CROSSCOMPUTE_INPUT_FOLDER', 'tests/standard/input'))\n",
    "output_folder = Path(getenv(\n",
    "    'CROSSCOMPUTE_OUTPUT_FOLDER', 'tests/standard/output'))\n",
    "\n",
    "output_folder.mkdir(parents=True, exist_ok=True)"
   ]
  },
  {
   "cell_type": "code",
   "execution_count": null,
   "id": "aeb5a75a-b551-4259-9bd2-f5d0b7d1ad0d",
   "metadata": {},
   "outputs": [],
   "source": [
    "import csv\n",
    "\n",
    "def extract_data(csv_path, series_code, value_column):\n",
    "    data = {}\n",
    "\n",
    "    with open(csv_path, 'r') as csv_file:\n",
    "        csv_reader = csv.DictReader(csv_file)\n",
    "        for row in csv_reader:\n",
    "            country_code = row['Country Code']\n",
    "            current_series_code = row['Series Code']\n",
    "            value = str(row[value_column])\n",
    "\n",
    "            try:\n",
    "                value = float(value)\n",
    "            except ValueError:\n",
    "                value = None\n",
    "\n",
    "            if current_series_code == series_code:\n",
    "                data[country_code] = value\n",
    "\n",
    "    return data"
   ]
  },
  {
   "cell_type": "code",
   "execution_count": null,
   "id": "777e1cc2-dce3-49b9-8ec5-c245fb7e2a1d",
   "metadata": {},
   "outputs": [],
   "source": [
    "import json\n",
    "\n",
    "var_path = input_folder / 'variables.json'\n",
    "\n",
    "data = {}\n",
    "\n",
    "with var_path.open('rt') as f:\n",
    "    data = json.load(f)\n",
    "\n",
    "csv_path = input_folder / 'data.csv'\n",
    "series_code = data['serie_code']\n",
    "value_column = data['value_column']\n",
    "fig_title = data.get('fig_title')\n",
    "legend_text = data.get('legend_text')"
   ]
  },
  {
   "cell_type": "code",
   "execution_count": 4,
   "id": "5ba1993b-26f3-4fdc-8e94-9da27ec6fb08",
   "metadata": {},
   "outputs": [],
   "source": [
    "import geopandas as gpd\n",
    "import matplotlib.pyplot as plt\n",
    "\n",
    "# Mock data\n",
    "mock_data = extract_data(csv_path, series_code, value_column)\n",
    "\n",
    "# print(mock_data)"
   ]
  },
  {
   "cell_type": "code",
   "execution_count": 5,
   "id": "5dc218ec-45bc-412e-8d18-ec93d3560aff",
   "metadata": {},
   "outputs": [],
   "source": [
    "\n",
    "# GeoJSON file with accurate country boundaries\n",
    "geojson_url = 'https://github.com/datasets/geo-countries/raw/master/data/countries.geojson'\n",
    "\n",
    "# Load GeoJSON file with geopandas\n",
    "world_gdf = gpd.read_file(geojson_url)\n",
    "\n",
    "# Merge with the mock data\n",
    "merged_gdf = world_gdf.merge(\n",
    "    gpd.GeoDataFrame({'ISO_A3': list(mock_data.keys()), 'value': list(mock_data.values())}),\n",
    "    on='ISO_A3'\n",
    ")\n",
    "\n",
    "from mpl_toolkits.axes_grid1 import make_axes_locatable\n",
    "\n",
    "# Plot the map with color based on the 'value' column\n",
    "fig, ax = plt.subplots(1, 1, figsize=(9, 9))\n",
    "divider = make_axes_locatable(ax)\n",
    "cax = divider.append_axes(\"right\", size=\"5%\", pad=0.1)\n",
    "merged_gdf.to_crs(epsg=3857, inplace=True)\n",
    "merged_gdf.plot(column='value', cmap='OrRd', linewidth=0.8, ax=ax, edgecolor='0.8', legend=True, cax=cax, legend_kwds={'label': legend_text}, missing_kwds={'color': 'grey', \"hatch\": \"///\", 'label': 'Missing values'})\n",
    "\n",
    "# Add a title\n",
    "plt.title(fig_title)\n",
    "\n",
    "# Save the plot as an image\n",
    "output_image_path = output_folder /'colored_map.png'\n",
    "plt.savefig(output_image_path, dpi=300, bbox_inches='tight')\n",
    "\n",
    "# Show the plot\n",
    "# plt.show()\n",
    "\n",
    "print(f\"Colored map saved as '{output_image_path}'.\")\n"
   ]
  }
 ],
 "metadata": {
  "kernelspec": {
   "display_name": "Python 3 (ipykernel)",
   "language": "python",
   "name": "python3"
  },
  "language_info": {
   "codemirror_mode": {
    "name": "ipython",
    "version": 3
   },
   "file_extension": ".py",
   "mimetype": "text/x-python",
   "name": "python",
   "nbconvert_exporter": "python",
   "pygments_lexer": "ipython3",
   "version": "3.11.2"
  }
 },
 "nbformat": 4,
 "nbformat_minor": 5
}
